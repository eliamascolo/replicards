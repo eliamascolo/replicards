{
 "cells": [
  {
   "cell_type": "markdown",
   "id": "9e16e95d-5798-4517-9bae-fac9199b249d",
   "metadata": {},
   "source": [
    "# <center>*The Replicards*</center>\n",
    "<center> Concept by Elia Mascolo* and Yseult Héjja-Brichard </center>\n",
    "<center> * ✉️ eliamascolo94@gmail.com </center>\n",
    "\n",
    "\n",
    "<br />\n",
    "<br />\n",
    "\n",
    "> ***The aim of this interactive class is to demonstrate how replicants that can inherit mutations can undergo evolution by natural selection if the inheritable characteristics can affect their reproductive success.***\n",
    "\n",
    "<br />\n",
    "<br />\n",
    "\n",
    "<hr style=\"border:1px solid gray\">\n",
    "\n",
    "## Table of Contents:\n",
    "* [Protocol](#Protocol)\n",
    "* [Results](#Results)\n",
    "* [Conclulsions](#Conclusions)\n",
    "* [Evolutionary simulations](#Evolutionary-simulations)\n",
    "* [In-class discussion](#In-class-discussion)\n",
    "* [Phylogenesis](#Phylogenesis)\n",
    "* [Materials and Methods](#Materials-and-Methods)\n",
    "* [Acknowledgements](#Acknowledgements)\n",
    "\n",
    "---"
   ]
  },
  {
   "cell_type": "markdown",
   "id": "6d1581d7-9474-499b-8e91-510ca2b384d8",
   "metadata": {},
   "source": [
    "## Protocol\n",
    "\n",
    "Each student was provided with a deck of square cards showing an empty $8 \\times 8$ grid. This deck of cards was available to the students for the whole duration of the class.\n",
    "\n",
    "<div id=newfig>\n",
    "    <img src=\"images/starter_deck.jpg\" alt=\"Picture of a deck of blank cards showing empty grids.\" width=\"200\"/>\n",
    "    <figcaption style=\"color:blue\"> Fig. 1 - Deck of blank cards showing empty grids. Each student had a deck like this as raw material for making copies of their template card. </figcaption>\n",
    "</div>\n",
    "\n",
    "### Steps in each generation\n",
    "\n",
    "The experiment consists of repeating a procedure called a *generation* several times. Each *generation* consists of the following three steps:\n",
    "\n",
    "#### 1. The memorization phase ($10$ seconds)\n",
    "\n",
    "Each student was provided with a *template* card, on which some cells of the grid were crossed with an **X**, forming a pattern. For example, a pattern may look like this:\n",
    "\n",
    "<div id=newfig>\n",
    "    <img src=\"images/random_replicard_pattern.jpg\" alt=\"Example of a pattern that can be encoded in a replicard.\" width=\"400\"/>\n",
    "    <figcaption style=\"color:blue\"> Fig. 2 - Example of a pattern that can be encoded in a <i>replicard</i>. On the left, the picture of the physical replicard; on the right, the corresponding schematic representation.</figcaption>\n",
    "</div>\n",
    "<br />\n",
    "\n",
    "However, the *template* card was provided face down, so that the students could not see the pattern.\n",
    "\n",
    "During the *memorization phase*, the students were allowed to look at the pattern on their *template* card for $10$ seconds and asked to try to memorize it. At the end of the $10$ seconds, the students had to turn the *template* card face down again.\n",
    "\n",
    "#### 2. The replication phase ($30$ seconds)\n",
    "\n",
    "As soon as they had turned the template face down, they had to copy the observed pattern onto the empty cards they were provided (without being able to look at the template again). They were asked to try to create as many correct copies of the template as possible over $30$ seconds. They were told that translations or rotations of the pattern on the grid count as correct replicas. For example, the following three cards display the *same* pattern.\n",
    "\n",
    "<div id=newfig>\n",
    "    <img src=\"images/PatternTrio.png\" alt=\"Example of three cards showing the same pattern in different positions or with a different orientation.\" width=\"600\"/>\n",
    "    <figcaption style=\"color:blue\"> Fig. 3 - These three <i>replicards</i> encode for the same pattern. </figcaption>\n",
    "</div>\n",
    "\n",
    "#### 3. The competition phase\n",
    "\n",
    "The templates were collected into a pile called the \"generation record\", which was put aside. Instead, the replicas were all put into a bag. The number of replicas largely exceeded the number of students. Each student was then randomly assigned a new *template* card randomly drawn from the bag. The remaining cards in the bag were discarded.\n",
    "\n",
    "Once each student has a new *template*, a new generation can start. The process is repeated until a desired number of generations is reached.\n",
    "\n",
    "### Recording results\n",
    "\n",
    "For each generation, the pile of *template* cards was collected (the \"generation record\"). Therefore, we had one pile of $N$ cards per generation (where $N$ is the number of students in the class). For each pile, the number of copies of each type of pattern was counted. Translated or rotated patterns count as the same pattern (see Fig XXX).\n",
    "\n",
    "The obtained counts were organized into a table.\n",
    "\n",
    "---"
   ]
  },
  {
   "cell_type": "markdown",
   "id": "6abf9fbb-4aa0-480f-b892-54c250a32f8c",
   "metadata": {},
   "source": [
    "## Results\n",
    "\n",
    "The class was composed of $24$ students ($N=24$). At generation 0, the \"population\" of *template* cards that had been distributed to the students was composed of the following three patterns (8 copies each):\n",
    "\n",
    "<div id=newfig>\n",
    "    <img src=\"images/Patterns_A_B_C.jpg\" alt=\"The initial replicards provided to the students.\" width=\"600\"/>\n",
    "    <figcaption style=\"color:blue\"> Fig. 4 - The initial replicards provided to the students (generation 0) all belong to three types shown here: patterns A, B and C. </figcaption>\n",
    "</div>\n",
    "<br />\n",
    "\n",
    "We named the patterns with the letters **A**, **B** and **C**.\n",
    "\n",
    "The results of the experiment are summarized in the following table.\n",
    "\n",
    "| Generation  |  A  |  B  |  C  |\n",
    "| :---------: | --: | --: | --: |\n",
    "| 0           |  8  |  8  |  8  |\n",
    "| 1           | 16  |  1  |  2  |\n",
    "| 2           | 21  |  1  |  0  |\n",
    "\n",
    "We can also visualize the number of **A**, **B** and **C** over generations through a line plot as follows."
   ]
  },
  {
   "cell_type": "code",
   "execution_count": 1,
   "id": "b689dc03-f6e6-4a9d-930d-b5b663eabfe8",
   "metadata": {
    "scrolled": true
   },
   "outputs": [
    {
     "data": {
      "image/png": "[encoded data removed]",
      "text/plain": [
       "<Figure size 500x250 with 1 Axes>"
      ]
     },
     "metadata": {},
     "output_type": "display_data"
    }
   ],
   "source": [
    "import matplotlib.pyplot as plt\n",
    "plt.rcParams['figure.figsize'] = [5, 2.5]\n",
    "plt.plot([8, 16, 21], label='A')\n",
    "plt.plot([8,  1,  1], label='B')\n",
    "plt.plot([8,  2,  0], label='C')\n",
    "plt.xticks(list(range(3)))\n",
    "plt.xlabel('generation')\n",
    "plt.ylabel('number of individuals')\n",
    "plt.grid()\n",
    "plt.legend()\n",
    "plt.show()"
   ]
  },
  {
   "cell_type": "markdown",
   "id": "59040373-2295-4f86-82c0-c6f358b0323f",
   "metadata": {},
   "source": [
    "&#x1F440; The students were asked to comment on the results shown in the table. They made two observations:\n",
    "* **Observation 1**:\n",
    "\n",
    "  The number of **A** cards increased each generation, while the number of **B** and **C** types decreased very quickly.\n",
    "* **Observation 2**:\n",
    "  \n",
    "  The total number of **A**, **B** and **C** cards in generations $1$ and $2$ is no longer $24$, even though in each generation one card was assigned to each student (so $24$ in total).\n",
    "\n",
    "&#x1F4A1; Students were asked to explain the observations.\n",
    "\n",
    "* **Interpretation of Observation 1 (Hypothesis 1)**:\n",
    "\n",
    "  The students noted that reproducing pattern **A** was easier than reproducing patterns **B** or **C**. More copies of **A** were generated in each generation and, therefore, the bag contained more copies of **A** than the other types of patterns. As a consequence, students were more likely to receive an **A** card in the next generation, when cards were randomly drawn from the bag.\n",
    "\n",
    "* **Interpretation of Observation 2 (Hypothesis 2)**:\n",
    "\n",
    "  One student suggested that, due to copying errors, some cards in generations $1$ and $2$ may not correspond to any of the three original patterns, **A**, **B** and **C**. That could explain why the count of A+B+C was no longer $24$.\n",
    "\n",
    "&#x1F50D; We then tested the students' explanations.\n",
    "\n",
    "* **Testing Hypothesis 1**\n",
    "\n",
    "  By looking at cards that went into the bag at the end of generation 0, which had been kept aside, we could test Hypothesis 1. The majority of the cards were of type **A**, confirming that more copies of **A** were produced, compared to **B** and **C** cards, although the templates were 8 per type and they all had the same amount of replication time. Hypothesis 1 was confirmed.\n",
    "\n",
    "* **Testing Hypothesis 2**\n",
    "\n",
    "  By inspecting the piles of cards for generations $1$ and $2$ (the \"generation records\"), we found some cards that didn't correspond to any of the three original patterns **A**, **B** and **C**. These cards were termed *mutants*. The mutants were $5$ in generation 1 and $2$ in generation 2 (see [Mutants](#Mutants), below). When taking the mutants into account, the total number of cards per generation was indeed $24$. Hypothesis 2 was confirmed."
   ]
  },
  {
   "cell_type": "markdown",
   "id": "833bcf88-b95e-4d0e-82e4-19ddf177c4a3",
   "metadata": {},
   "source": [
    "#### Mutants\n",
    "\n",
    "##### Mutants at generation $1$:\n",
    "\n",
    "<div id=newfig>\n",
    "    <img src=\"images/mutants_gen1.jpg\" alt=\"Picture of the mutant replicards at generation 1.\" width=\"1000\"/>\n",
    "    <figcaption style=\"color:blue\"> Fig. 5 - At generation 1, five <i>replicards</i> did not belong to any of the initial patterns (A, B or C). Those five <i>replicards</i> were termed <i>mutants</i> and are shown here. They all seem variants of pattern C. Three of them are the same and are termed C$\\alpha$. The other two are different types of mutants and are termed C$\\beta$ and C$\\gamma$. </figcaption>\n",
    "</div>\n",
    "<br />\n",
    "\n",
    "##### Mutants at generation $2$:\n",
    "\n",
    "<div id=newfig>\n",
    "    <img src=\"images/mutants_gen2.jpg\" alt=\"Picture of the mutant replicards at generation 2.\" width=\"400\"/>\n",
    "    <figcaption style=\"color:blue\"> Fig. 6 - The two mutants that survived to generation 2. They are both of type C$\\beta$. </figcaption>\n",
    "</div>\n",
    "<br />\n",
    "\n",
    "Thus, we updated the table to account for the mutants. This way, all the cards were counted at each generation. For simplicity, we categorized all the mutants under a single class named **X**.\n",
    "\n",
    "| Generation  |  A  |  B  |  C  |  X  |\n",
    "| :---------: | --: | --: | --: | --: |\n",
    "| 0           |  8  |  8  |  8  |  0  |\n",
    "| 1           | 16  |  1  |  2  |  5  |\n",
    "| 2           | 21  |  1  |  0  |  2  |\n",
    "\n",
    "<br />\n",
    "\n",
    "---"
   ]
  },
  {
   "cell_type": "markdown",
   "id": "33151dbd-ed0b-4270-b4d6-0486eec72613",
   "metadata": {},
   "source": [
    "## Conclusions\n",
    "\n",
    "We concluded that the frequency of each type of pattern can change across generations due to *chance* (after all, the cards composing each new generation are *randomly* sampled from the bag) but also partly due to another logical principle. The principle is the following: if a pattern is more successful at being replicated than the others, its frequency in the population is more likely to increase. Now that we understand these two principles acting on the frequencies of the competing replicants, we are ready to name them according to the scientific literature:\n",
    "\n",
    "1. ***GENETIC DRIFT***: the (unpredictable) effect that random chance has on the frequency of each type of replicant.\n",
    "2. ***NATURAL SELECTION***: the (predictable) bias in the frequency of each type of replicant due to their (different) reproductive success.\n",
    "\n",
    "The overall process that the population of $N$ replicants underwent, where the frequencies of the different types change over generations, is called ***EVOLUTION***."
   ]
  },
  {
   "cell_type": "markdown",
   "id": "14a2d768-37ed-4e61-9287-ea02283d64f8",
   "metadata": {},
   "source": [
    "### Homework questions\n",
    "\n",
    "#### Question 1\n",
    "\n",
    "We discussed that evolution is not completely predictable because chance is involved in several parts of the process. However, some scenarios may be more/less predictable than others. As an exercise, try to think about the role that the population size $N$ plays. For example, compare the scenarios where $N$ is very small/very large. Which one will evolve in a more predictable way?\n",
    "\n",
    "#### Question 2\n",
    "\n",
    "The balance between *genetic drift* and *natural selection* (see [Conclusions](#Conclusions) to check the terminology) can also depend on the difference in *reproductive success* (evolutionary biologists use the term *fitness*) between the different types of replicants. Compare the scenarios where the types are very similar/very different in reproductive success. Which one will evolve in a more predictable way?\n",
    "\n",
    "---"
   ]
  },
  {
   "cell_type": "markdown",
   "id": "6556eb6f-79a5-42d9-a96d-fa3032e0f011",
   "metadata": {},
   "source": [
    "## Evolutionary simulations\n",
    "\n",
    "The experiment we performed with the *replicards* is a demonstration of how evolution by natural selection works. However, it has two important limitations:\n",
    "1. We only run a couple of generations, but it would be interesting to follow the evolution of the *replicards* through many generations.\n",
    "2. We only experimented with a given initial condition (patterns **A**, **B** and **C** in equal frequencies), but it would be interesting to test patterns that are more different or more similar to each other in terms of their reproductive success.\n",
    "\n",
    "To that end, we can use **computer simulations** to get very quick empirical answers to our questions.\n",
    "\n",
    "### The virtual replicards\n",
    "\n",
    "We can use the programming language *Python* to run computer simulations of the *replicards*' evolution, by importing the public Python library for the replicards (the source code is [here](https://github.com/eliamascolo/replicards)). The code provides the following types of custom Python *classes*\n",
    "* `Organism` : objects of this class represent the individuals composing the population (like the *replicards*); they can `reproduce` (i.e., create a copy of themselves).\n",
    "* `Population` : this is a handy class that can be used to generate reports of the evolution of a population; it can visually summarize the results of a simulation with a plot.\n",
    "\n",
    "as well as the *create* function\n",
    "* `create` : a function that can be used to generate the initial population. It requires to specify three parameters: (1) the type of organism, i.e., whatever name that identifies that type; (2) the (expected) reproductive success of that type of organism; (3) the number of organisms of that type that must be created.\n",
    "\n",
    "We import the needed code from the `replicards` library, as well as the `random` library as follows"
   ]
  },
  {
   "cell_type": "code",
   "execution_count": 2,
   "id": "9c864198-95b6-4506-b145-212901e26e4d",
   "metadata": {},
   "outputs": [],
   "source": [
    "from replicards import Population, create\n",
    "import random"
   ]
  },
  {
   "cell_type": "markdown",
   "id": "06ffc81f-1c9a-4c6f-8181-868c3ff5a463",
   "metadata": {},
   "source": [
    "### Settings\n",
    "\n",
    "We can now set the initial condition (the population at \"Generation 0\") for our evolutionary simulation.\n",
    "\n",
    "First, we set how many \"organisms\" per type are present at the beginning. Here we simulate the in-class experiment by setting three patterns, 8 copies each, for a total population size of $N=24$."
   ]
  },
  {
   "cell_type": "code",
   "execution_count": 3,
   "id": "30a6169f-964f-4705-88ad-f48475cfacf3",
   "metadata": {},
   "outputs": [],
   "source": [
    "n_a = 8  # Initial number of A\n",
    "n_b = 8  # Initial number of B\n",
    "n_c = 8  # Initial number of C"
   ]
  },
  {
   "cell_type": "markdown",
   "id": "e589dbe3-f20e-415c-888e-16bb18486eea",
   "metadata": {},
   "source": [
    "Next, we can decide how easy it will be to replicate each type of pattern, by setting the expected (average) number of copies each pattern get at each generation."
   ]
  },
  {
   "cell_type": "code",
   "execution_count": 4,
   "id": "7268e517-23ba-4e6f-9031-9bafd1cf5cad",
   "metadata": {},
   "outputs": [],
   "source": [
    "w_a = 12  # Expected number of offspring for A per generation\n",
    "w_b =  8  # Expected number of offspring for B per generation\n",
    "w_c =  4  # Expected number of offspring for C per generation"
   ]
  },
  {
   "cell_type": "markdown",
   "id": "542e2247-fe66-4ea9-b37c-4bceed4cbb1e",
   "metadata": {},
   "source": [
    "### Run the evolutionary simulation\n",
    "\n",
    "We are now ready to run a computer simulation."
   ]
  },
  {
   "cell_type": "code",
   "execution_count": 5,
   "id": "8209ee34-4a72-4372-a3ff-b926d430ac74",
   "metadata": {},
   "outputs": [
    {
     "name": "stdout",
     "output_type": "stream",
     "text": [
      "The population size is N = 24\n"
     ]
    },
    {
     "data": {
      "image/png": "[encoded data removed]",
      "text/plain": [
       "<Figure size 500x250 with 1 Axes>"
      ]
     },
     "metadata": {},
     "output_type": "display_data"
    }
   ],
   "source": [
    "# Initialize population\n",
    "pop = Population(create('A', w_a, n_a) +\n",
    "                 create('B', w_b, n_b) +\n",
    "                 create('C', w_c, n_c))\n",
    "\n",
    "# Population size\n",
    "N = pop.size\n",
    "print(\"The population size is N =\", N)\n",
    "\n",
    "# Keep evolving until fixation is reached\n",
    "while not pop.fixation:\n",
    "    \n",
    "    # Reproduction based on fitness\n",
    "    pop_offspring = []\n",
    "    for org in pop.organisms:\n",
    "        pop_offspring += org.reproduce()\n",
    "    parents_and_offspring = pop.organisms + pop_offspring\n",
    "    \n",
    "    # Maintain population size constant at N, the environment's carrying capacity\n",
    "    new_pop = random.sample(parents_and_offspring, N)\n",
    "    \n",
    "    # Update the population\n",
    "    pop.update(new_pop)\n",
    "\n",
    "# Plot results of the evolutionary simulation\n",
    "pop.plot_evolution()"
   ]
  },
  {
   "cell_type": "markdown",
   "id": "0717cf06-332b-4fc5-94e9-2e0cb07c036e",
   "metadata": {},
   "source": [
    "The graph displays how many individuals of each type are present in each generation, while the total population size remains constant. The simulation stopped when one of the types took over the population completely."
   ]
  },
  {
   "cell_type": "markdown",
   "id": "9823648c-1a9d-48c2-bf52-aa2b42cf028a",
   "metadata": {},
   "source": [
    "### Run your own experiments\n",
    "\n",
    "If you are running this as a Jupyter Notebook, you can go back to the [Settings](#Settings) and change the parameters that specify the initial conditions. In particular, if you have thought about the [Homework questions](#Homework-questions), it is time for you to put your thoughts to the test! For example, to get the answer to **Question 1**, you can change the population size to make it very big or very small, and run the simulation several times to see if results become more consistent or more unpredictable. Similarly, for **Question 2** you can play with the `w_a`, `w_b` and `w_c` parameters, which control the reproductive success (the \"fitness\") of each type. You can make it more unequal (for example, 12, 2, 1) or more similar to each other (for example, 12, 11, 10).\n",
    "\n",
    "---"
   ]
  },
  {
   "cell_type": "markdown",
   "id": "261c538e-9c7a-4128-a3b9-40253359c040",
   "metadata": {},
   "source": [
    "## In-class discussion\n",
    "\n",
    "#### Randomness\n",
    "\n",
    "When running the same simulation (with the same initial population) several times, we observed different outcomes. Why is that?\n",
    "\n",
    "In the code, the `w_a`, `w_b` and `w_c` parameters define the *average* number of offspring per generation. However, the exact number of offspring is randomly assigned (if you are statistically minded, the precise way this is done is by sampling from a Poisson distribution). Moreover, at each generation, $N$ individuals are randomly sampled (to keep the population size constant). These random processes make the evolution *to some extent* unpredictable. Thus, they simulate the phenomenon that we called *genetic drift* (see [Conclusions](#Conclusions) to check the terminology).\n",
    "\n",
    "The computer simulations can help us demonstrate empirically the balance between random chance and natural selection in evolving populations (see the paragraph \"[Run your own experiments](#Run-your-own-experiments)\").\n",
    "\n",
    "#### Mutations\n",
    "\n",
    "However, a limitation of our computer simulations is that the replication occurs without errors. No mutations are introduced, and therefore, no *new* types. On the contrary, the experiment performed by the students with the *replicards* included accidental mutations, allowing for the appearance of [mutants](#Mutants).\n",
    "\n",
    "> What is a mutation?\n",
    "\n",
    "We reasoned that **not all *modifications* qualify as *mutations***. For example, a card got bent during the replication process. However, when being used as a *template*, the copies of that card (the \"offspring\") were not bent because the students were only copying the pattern of **X** marks, not every possible physical feature. Evolution acts on mutations, which are not any kind of modifications but rather the modification of ***inheritable*** traits. In the case of the *replicards*, the inheritable traits are the positions of the **X** marks, which are a form of digital information. Actual living beings don't carry grids of **X** marks, but rather a sequence of *nucleotides* making a long molecule called DNA, which is also a form of digital information. Modifying other parts of the organism would constitute a modification but not a mutation. For example, if I lose a finger in an accident, my children will still be born with 10 fingers, not 9. Instead, if the DNA sequence in my \"germline\" cells gets mutated in some parts (genes) related to finger development (for example, HoxA and HoxD genes), my offspring could have a number of fingers different from 10, even if I have 10 fingers (as in the case of people with polydactyly).\n",
    "\n",
    "> What do you think could happen if we were to continue the *replicards* protocol for a very very large number of generations?\n",
    "\n",
    "A student suggested that eventually the population would be taken over by a *replicard* containing a single **X**. This pattern could be produced if, at the end of the 30 seconds of the replication phase, a student had just started making a new copy of the template. The prematurely interrupted replication process would leave the card filled with only one **X** mark. If this card is lucky enough to be sampled from the bag, it could end up dominating the population due to its high reproductive success (high *fitness*). This high success would be simply due to the fact that many more copies of it could be made in 30 seconds, compared to other more complicated patterns.\n",
    "\n",
    "---"
   ]
  },
  {
   "cell_type": "markdown",
   "id": "3ac10d23-3851-4651-ac5a-a28d95eb1c27",
   "metadata": {},
   "source": [
    "## Phylogenesis\n",
    "\n",
    "By inspecting the patterns found in the mutants (see the [Mutants](#Mutants) paragraph), we can infer their *phylogenetic tree*, which is a convenient way to represent how the *types* are related, analogous to family trees. In the tree below, we can see that all the mutants were descendants of pattern **C**. This is not too surprising because we reasoned that pattern **C** was the hardest to replicate and so the easiest to get wrong when trying to copy it. The mutants **C$\\alpha$**, **C$\\beta$** and **C$\\gamma$** appeared at generation 1. We can also see that patterns **C$\\alpha$** and **C$\\gamma$** went extinct at generation 2.\n",
    "\n",
    "<div id=newfig>\n",
    "    <img src=\"images/phylogenetic_tree_replicards.jpg\" alt=\"phylogenetic tree of the mutant replicards.\" width=\"1000\"/>\n",
    "    <figcaption style=\"color:blue\"> Fig. 7 - Phylogenetic tree of the <i>mutant</i> replicards. </figcaption>\n",
    "</div>\n",
    "<br />\n",
    "\n",
    "---"
   ]
  },
  {
   "cell_type": "markdown",
   "id": "2b06141b-e892-4299-9741-4c748418c283",
   "metadata": {},
   "source": [
    "## Materials and Methods\n",
    "\n",
    "### Replicards\n",
    "\n",
    "The *replicards* were $7 \\times 7$ square grids (of size 7 cm $\\times$ 7 cm), printed on thick paper. The **X** marks on the cells were drawn by the students using pencils.\n",
    "\n",
    "### Simulations\n",
    "\n",
    "The code was written in *Python* and is available at https://github.com/eliamascolo/replicards.\n",
    "\n",
    "Replicards package: [conda](https://anaconda.org/eliamascolo/replicards) or [pip](https://pypi.org/project/replicards/).\n",
    "\n",
    "---"
   ]
  },
  {
   "cell_type": "markdown",
   "id": "41fc0415-82f5-46e5-9f7f-8f7fe9ffff7c",
   "metadata": {},
   "source": [
    "## Acknowledgements\n",
    "\n",
    "We would like to thank the students of classes 3°A liceo scientifico and 1°Cl liceo classico (academic year 2024-2025) of the *Istituto Salesiano S. Ambrogio* in Milan and their science teacher Simone Assanelli for crash-testing our Replicards game. The results in this notebook were produced by these students."
   ]
  }
 ],
 "metadata": {
  "kernelspec": {
   "display_name": "Python 3 (ipykernel)",
   "language": "python",
   "name": "python3"
  },
  "language_info": {
   "codemirror_mode": {
    "name": "ipython",
    "version": 3
   },
   "file_extension": ".py",
   "mimetype": "text/x-python",
   "name": "python",
   "nbconvert_exporter": "python",
   "pygments_lexer": "ipython3",
   "version": "3.12.8"
  }
 },
 "nbformat": 4,
 "nbformat_minor": 5
}
